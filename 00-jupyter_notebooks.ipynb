{
 "cells": [
  {
   "cell_type": "markdown",
   "metadata": {},
   "source": [
    "# PAMCA Infrared Spectrosocpy and Machine Learning Workshop"
   ]
  },
  {
   "cell_type": "markdown",
   "metadata": {},
   "source": [
    "## Why Python?"
   ]
  },
  {
   "cell_type": "markdown",
   "metadata": {},
   "source": [
    "* Scripting language: easy to learn, fast to apply\n",
    "* Very fast coding: execute code directly in editor, no need to compile\n",
    "* Giant community: lots of help online, easy installation\n",
    "* Very good documentation\n",
    "* Open Source"
   ]
  },
  {
   "cell_type": "markdown",
   "metadata": {},
   "source": [
    "[top](#pamca-infrared-spectrosocpy-and-machine-learning-workshop)"
   ]
  },
  {
   "cell_type": "markdown",
   "metadata": {},
   "source": [
    "<a name=\"jupyter\"></a>The Jupyter Notebook\n",
    "==="
   ]
  },
  {
   "cell_type": "markdown",
   "metadata": {},
   "source": [
    "The document in which this presentation and the examples are written is a so called Jupyter Notebook. It allows us to write nicely forma    tted text together with executable code. Additionally, the code snippets from the presentation can be used as templates for the exercises."
   ]
  },
  {
   "cell_type": "markdown",
   "metadata": {},
   "source": [
    "##### Modal Editor"
   ]
  },
  {
   "cell_type": "markdown",
   "metadata": {},
   "source": [
    "The Jupyter Notebook is a _modal editor_. There are two modes: \n",
    "* the **Edit Mode** for writing _within_ cells and\n",
    "* the **Command Mode** to edit blocks of cells.\n",
    "\n",
    "**Edit mode** is indicated by a green and **Command mode** by a grey cell border:"
   ]
  },
  {
   "cell_type": "markdown",
   "metadata": {},
   "source": [
    "Change to a mode by:\n",
    "* **Edit Mode**: press \"enter\" or click _inside_ a cell\n",
    "* **Command Mode**: press \"Esc\" or click _next to_ the cell"
   ]
  },
  {
   "cell_type": "markdown",
   "metadata": {},
   "source": [
    "##### Cell-types"
   ]
  },
  {
   "cell_type": "markdown",
   "metadata": {},
   "source": [
    "A Jupyter Notebook has _cells_ with different contents:\n",
    "* structured **Text** (called \"Markdown\")\n",
    "* and **Code** (note the ```In [1]:``` in front of the cell)"
   ]
  },
  {
   "cell_type": "code",
   "execution_count": 2,
   "metadata": {},
   "outputs": [
    {
     "name": "stdout",
     "output_type": "stream",
     "text": [
      "10\n"
     ]
    }
   ],
   "source": [
    "a = 10\n",
    "print(a)"
   ]
  },
  {
   "cell_type": "markdown",
   "metadata": {},
   "source": [
    "To change the type of the content of a cell:\n",
    "* **Code**: press ```y``` or click Cell $\\rightarrow$ Cell Type $\\rightarrow$ Code\n",
    "* **Text**: press ```m``` or click Cell $\\rightarrow$ Cell Type $\\rightarrow$ Markdown"
   ]
  },
  {
   "cell_type": "markdown",
   "metadata": {},
   "source": [
    "<a name='kommandos'></a>A few commands\n",
    "---"
   ]
  },
  {
   "cell_type": "markdown",
   "metadata": {},
   "source": [
    "* **Edit Mode**:\n",
    "    * ```tab``` for text completion\n",
    "    * ```ctrl-c``` to copy the content of a cell\n",
    "    * ```ctrl-v``` to paste the content inside a cell"
   ]
  },
  {
   "cell_type": "markdown",
   "metadata": {},
   "source": [
    "All commands can be found and used in the toolbar (see above). Howevere, some short keys might be useful:\n",
    "* **Command Mode**:\n",
    "    * ```h``` shows a list of commands\n",
    "    * ```a``` or ```b``` to create a new cell above or under the active cell\n",
    "    * ```d-d``` to delete the active cell\n",
    "    * ```shift-enter``` to execute the active cell"
   ]
  },
  {
   "cell_type": "markdown",
   "metadata": {},
   "source": [
    "Comments allow you to write in plain text, within your program. In Python, any line that starts with a pound (#) symbol is ignored by the Python interpreter."
   ]
  },
  {
   "cell_type": "code",
   "execution_count": 4,
   "metadata": {},
   "outputs": [
    {
     "name": "stdout",
     "output_type": "stream",
     "text": [
      "This line is not a comment, it is code.\n"
     ]
    }
   ],
   "source": [
    "# This line is a good comment.\n",
    "#this \n",
    "#is \n",
    "#not\n",
    "\n",
    "print(\"This line is not a comment, it is code.\")"
   ]
  },
  {
   "cell_type": "markdown",
   "metadata": {},
   "source": [
    "##### What makes a good comment?\n",
    "- It is short and to the point, but a complete thought. Most comments should be written in complete sentences.\n",
    "- It explains your thinking, so that when you return to the code later, you will understand how you were approaching the problem.\n",
    "- It explains your thinking, so that others who work with your code will understand your overall approach to a problem.\n",
    "- It explains particularly difficult sections of code in detail."
   ]
  },
  {
   "cell_type": "markdown",
   "metadata": {},
   "source": [
    "**Preparation**\n",
    "  1. Navigate to the Dashboard (we recommend $\\rightarrow$ \"open in a new tab\")\n",
    "  2. Create a new Jupyter-notebook for the exercise: \"new\" (upper right) $\\rightarrow$ \"Python 3\"\n",
    "  3. Give the Notebook a descriptive name (for example) \"Exercise01\" by clicking into the \"Untitled\" field in the upper left corner."
   ]
  },
  {
   "cell_type": "markdown",
   "metadata": {},
   "source": [
    "[top](#pamca-infrared-spectrosocpy-and-machine-learning-workshop)"
   ]
  },
  {
   "cell_type": "markdown",
   "metadata": {},
   "source": []
  }
 ],
 "metadata": {
  "kernelspec": {
   "display_name": "Python 3 (ipykernel)",
   "language": "python",
   "name": "python3"
  },
  "language_info": {
   "codemirror_mode": {
    "name": "ipython",
    "version": 3
   },
   "file_extension": ".py",
   "mimetype": "text/x-python",
   "name": "python",
   "nbconvert_exporter": "python",
   "pygments_lexer": "ipython3",
   "version": "3.10.6"
  }
 },
 "nbformat": 4,
 "nbformat_minor": 4
}
