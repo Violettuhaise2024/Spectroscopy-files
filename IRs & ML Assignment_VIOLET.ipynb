{
 "cells": [
  {
   "cell_type": "markdown",
   "metadata": {},
   "source": [
    "# PAMCA Infrared Spectrosocpy and Machine Learning Workshop\n",
    "\n",
    "## Assigment and grading:\n",
    "\n",
    "This is the assignment on Basics of Python and Spectroscopy. \n",
    "- There are 10 questions related to python and one excercise about spectroscopy. \n",
    "- Type your name in the assigned cell.\n",
    "- Please type your answers in the space provided (indicated with the message: type your answer here). After you type your answers, run the cells to make sure there are no errors. \n",
    "\n",
    "\n",
    "The deadline for this assignment will be on **Wednesday 7th May from 11:00 - 13:00 UK time** (**assignments send later than 13:00 will not be graded**) You need to send it to my email: mauro.pazminobetancourth@glasgow.ac.uk. I will upload the jupyter notebook with the solutions on Wednesday after the deadline (as preparation for the next sessions).\n",
    "\n",
    "\n",
    "This assignment is graded and it will be part of your final grade for this course. \n",
    "\n"
   ]
  },
  {
   "cell_type": "markdown",
   "metadata": {},
   "source": [
    "- Please type your name here:  TUHAISE VIOLET"
   ]
  },
  {
   "cell_type": "markdown",
   "metadata": {},
   "source": [
    "## Assesment Python\n",
    "\n",
    "### Instructions:\n",
    "For this part you need to download the file: IR_dataset_PAMCA.csv located in the dataset folder in TEAMS. Please download the file into your working folder."
   ]
  },
  {
   "cell_type": "markdown",
   "metadata": {},
   "source": [
    "**About the data set**\n",
    "\n",
    "The dataset is made of infrared spectroscopy measurements of mosquito samples from University of Glasgow. It has samples from two different species and measured them at different chronological ages. "
   ]
  },
  {
   "cell_type": "code",
   "execution_count": 1,
   "metadata": {},
   "outputs": [],
   "source": [
    "# Import the following packages\n",
    "\n",
    "import pandas as pd\n",
    "import numpy as np\n"
   ]
  },
  {
   "cell_type": "markdown",
   "metadata": {},
   "source": [
    "1. Import the dataset IR_dataset_PAMCA.csv using pandas and called df_mosquitoes."
   ]
  },
  {
   "cell_type": "code",
   "execution_count": 2,
   "metadata": {},
   "outputs": [],
   "source": [
    "## type your answer here\n",
    "df_mosquitoes = pd.read_csv(r\"C:\\Users\\user\\Downloads\\IR_dataset_PAMCA.csv\")"
   ]
  },
  {
   "cell_type": "markdown",
   "metadata": {},
   "source": [
    "2. Print the first 10 rows. "
   ]
  },
  {
   "cell_type": "code",
   "execution_count": 3,
   "metadata": {},
   "outputs": [
    {
     "name": "stdout",
     "output_type": "stream",
     "text": [
      "  spcs  Age      Dataset Status Country RearCnd  StoTime    1800    1798  \\\n",
      "0   AC    1  Glasgow Lab     SF       S      TL       83  0.0105  0.0106   \n",
      "1   AC    1  Glasgow Lab     SF       S      TL       83  0.0105  0.0106   \n",
      "2   AC    1  Glasgow Lab     SF       S      TL       83  0.0094  0.0094   \n",
      "3   AC    1  Glasgow Lab     SF       S      TL       83  0.0094  0.0094   \n",
      "4   AC    1  Glasgow Lab     SF       S      TL       83  0.0116  0.0117   \n",
      "5   AC    1  Glasgow Lab     SF       S      TL       83  0.0116  0.0117   \n",
      "6   AC    1  Glasgow Lab     SF       S      TL       83  0.0122  0.0123   \n",
      "7   AC    1  Glasgow Lab     SF       S      TL       83  0.0122  0.0123   \n",
      "8   AC    1  Glasgow Lab     SF       S      TL       83  0.0134  0.0136   \n",
      "9   AC    1  Glasgow Lab     SF       S      TL       83  0.0134  0.0136   \n",
      "\n",
      "     1796  ...     620     618     616     614     612     610     608  \\\n",
      "0  0.0107  ...  0.1472  0.1478  0.1478  0.1475  0.1476  0.1481  0.1489   \n",
      "1  0.0107  ...  0.1472  0.1478  0.1478  0.1475  0.1476  0.1481  0.1489   \n",
      "2  0.0094  ...  0.1044  0.1045  0.1047  0.1051  0.1054  0.1057  0.1060   \n",
      "3  0.0094  ...  0.1044  0.1045  0.1047  0.1051  0.1054  0.1057  0.1060   \n",
      "4  0.0118  ...  0.1322  0.1325  0.1328  0.1332  0.1336  0.1341  0.1349   \n",
      "5  0.0118  ...  0.1322  0.1325  0.1328  0.1332  0.1336  0.1341  0.1349   \n",
      "6  0.0127  ...  0.1323  0.1327  0.1333  0.1339  0.1344  0.1349  0.1356   \n",
      "7  0.0127  ...  0.1323  0.1327  0.1333  0.1339  0.1344  0.1349  0.1356   \n",
      "8  0.0139  ...  0.1859  0.1863  0.1868  0.1873  0.1879  0.1887  0.1897   \n",
      "9  0.0139  ...  0.1859  0.1863  0.1868  0.1873  0.1879  0.1887  0.1897   \n",
      "\n",
      "      606     604     602  \n",
      "0  0.1497  0.1507  0.1519  \n",
      "1  0.1497  0.1507  0.1519  \n",
      "2  0.1064  0.1068  0.1074  \n",
      "3  0.1064  0.1068  0.1074  \n",
      "4  0.1357  0.1365  0.1376  \n",
      "5  0.1357  0.1365  0.1376  \n",
      "6  0.1362  0.1370  0.1379  \n",
      "7  0.1362  0.1370  0.1379  \n",
      "8  0.1907  0.1919  0.1932  \n",
      "9  0.1907  0.1919  0.1932  \n",
      "\n",
      "[10 rows x 607 columns]\n"
     ]
    }
   ],
   "source": [
    "## type your answer here\n",
    "\n",
    "print(df_mosquitoes.head(10))"
   ]
  },
  {
   "cell_type": "markdown",
   "metadata": {},
   "source": [
    "2. Rename the following columns and print the first 10 rows: \n",
    "    - spcs to Species\n",
    "    - RearCnd to Rear Conditions "
   ]
  },
  {
   "cell_type": "code",
   "execution_count": 4,
   "metadata": {},
   "outputs": [
    {
     "name": "stdout",
     "output_type": "stream",
     "text": [
      "  Species  Age      Dataset Status Country Rear Condition  StoTime    1800  \\\n",
      "0      AC    1  Glasgow Lab     SF       S             TL       83  0.0105   \n",
      "1      AC    1  Glasgow Lab     SF       S             TL       83  0.0105   \n",
      "2      AC    1  Glasgow Lab     SF       S             TL       83  0.0094   \n",
      "3      AC    1  Glasgow Lab     SF       S             TL       83  0.0094   \n",
      "4      AC    1  Glasgow Lab     SF       S             TL       83  0.0116   \n",
      "5      AC    1  Glasgow Lab     SF       S             TL       83  0.0116   \n",
      "6      AC    1  Glasgow Lab     SF       S             TL       83  0.0122   \n",
      "7      AC    1  Glasgow Lab     SF       S             TL       83  0.0122   \n",
      "8      AC    1  Glasgow Lab     SF       S             TL       83  0.0134   \n",
      "9      AC    1  Glasgow Lab     SF       S             TL       83  0.0134   \n",
      "\n",
      "     1798    1796  ...     620     618     616     614     612     610  \\\n",
      "0  0.0106  0.0107  ...  0.1472  0.1478  0.1478  0.1475  0.1476  0.1481   \n",
      "1  0.0106  0.0107  ...  0.1472  0.1478  0.1478  0.1475  0.1476  0.1481   \n",
      "2  0.0094  0.0094  ...  0.1044  0.1045  0.1047  0.1051  0.1054  0.1057   \n",
      "3  0.0094  0.0094  ...  0.1044  0.1045  0.1047  0.1051  0.1054  0.1057   \n",
      "4  0.0117  0.0118  ...  0.1322  0.1325  0.1328  0.1332  0.1336  0.1341   \n",
      "5  0.0117  0.0118  ...  0.1322  0.1325  0.1328  0.1332  0.1336  0.1341   \n",
      "6  0.0123  0.0127  ...  0.1323  0.1327  0.1333  0.1339  0.1344  0.1349   \n",
      "7  0.0123  0.0127  ...  0.1323  0.1327  0.1333  0.1339  0.1344  0.1349   \n",
      "8  0.0136  0.0139  ...  0.1859  0.1863  0.1868  0.1873  0.1879  0.1887   \n",
      "9  0.0136  0.0139  ...  0.1859  0.1863  0.1868  0.1873  0.1879  0.1887   \n",
      "\n",
      "      608     606     604     602  \n",
      "0  0.1489  0.1497  0.1507  0.1519  \n",
      "1  0.1489  0.1497  0.1507  0.1519  \n",
      "2  0.1060  0.1064  0.1068  0.1074  \n",
      "3  0.1060  0.1064  0.1068  0.1074  \n",
      "4  0.1349  0.1357  0.1365  0.1376  \n",
      "5  0.1349  0.1357  0.1365  0.1376  \n",
      "6  0.1356  0.1362  0.1370  0.1379  \n",
      "7  0.1356  0.1362  0.1370  0.1379  \n",
      "8  0.1897  0.1907  0.1919  0.1932  \n",
      "9  0.1897  0.1907  0.1919  0.1932  \n",
      "\n",
      "[10 rows x 607 columns]\n"
     ]
    }
   ],
   "source": [
    "## type your answer here\n",
    "\n",
    "df_mosquitoes.rename(columns={\"spcs\":\"Species\", \"RearCnd\":\"Rear Condition\"}, inplace=True)\n",
    "print(df_mosquitoes.head(10))"
   ]
  },
  {
   "cell_type": "markdown",
   "metadata": {},
   "source": [
    "3. Print the classes and the number of samples that are in column Status"
   ]
  },
  {
   "cell_type": "code",
   "execution_count": 5,
   "metadata": {},
   "outputs": [
    {
     "name": "stdout",
     "output_type": "stream",
     "text": [
      "0       SF\n",
      "1       SF\n",
      "2       SF\n",
      "3       SF\n",
      "4       SF\n",
      "        ..\n",
      "1659    SF\n",
      "1660    SF\n",
      "1661    SF\n",
      "1662    SF\n",
      "1663    SF\n",
      "Name: Status, Length: 1664, dtype: object\n"
     ]
    }
   ],
   "source": [
    "## type your answer here\n",
    "print(df_mosquitoes[\"Status\"])\n"
   ]
  },
  {
   "cell_type": "code",
   "execution_count": 6,
   "metadata": {},
   "outputs": [
    {
     "data": {
      "text/plain": [
       "Status\n",
       "SF    904\n",
       "BF    436\n",
       "GR    324\n",
       "Name: count, dtype: int64"
      ]
     },
     "execution_count": 6,
     "metadata": {},
     "output_type": "execute_result"
    }
   ],
   "source": [
    "df_mosquitoes[\"Status\"].value_counts()"
   ]
  },
  {
   "cell_type": "code",
   "execution_count": 7,
   "metadata": {},
   "outputs": [
    {
     "data": {
      "text/plain": [
       "Status\n",
       "BF    436\n",
       "GR    324\n",
       "SF    904\n",
       "Name: count, dtype: int64"
      ]
     },
     "execution_count": 7,
     "metadata": {},
     "output_type": "execute_result"
    }
   ],
   "source": [
    "df_mosquitoes[\"Status\"].value_counts().sort_index()"
   ]
  },
  {
   "cell_type": "markdown",
   "metadata": {},
   "source": [
    "4. Print the classes and the number of samples that exist in the column **Age**. The values should be sort by values (smallest to the greatest)"
   ]
  },
  {
   "cell_type": "code",
   "execution_count": 8,
   "metadata": {},
   "outputs": [
    {
     "name": "stdout",
     "output_type": "stream",
     "text": [
      "0        1\n",
      "1        1\n",
      "2        1\n",
      "3        1\n",
      "4        1\n",
      "        ..\n",
      "1659    10\n",
      "1660    10\n",
      "1661    10\n",
      "1662    10\n",
      "1663    10\n",
      "Name: Age, Length: 1664, dtype: int64\n"
     ]
    }
   ],
   "source": [
    "## type you answer here\n",
    "print(df_mosquitoes[\"Age\"])"
   ]
  },
  {
   "cell_type": "code",
   "execution_count": 9,
   "metadata": {},
   "outputs": [
    {
     "data": {
      "text/plain": [
       "Age\n",
       "1     254\n",
       "3     207\n",
       "5     300\n",
       "7     311\n",
       "9     279\n",
       "10    313\n",
       "Name: count, dtype: int64"
      ]
     },
     "execution_count": 9,
     "metadata": {},
     "output_type": "execute_result"
    }
   ],
   "source": [
    "df_mosquitoes[\"Age\"].value_counts().sort_index()"
   ]
  },
  {
   "cell_type": "markdown",
   "metadata": {},
   "source": [
    "5. Select the samples that have values less than 0.1336 at the wavelenght 612"
   ]
  },
  {
   "cell_type": "code",
   "execution_count": 10,
   "metadata": {},
   "outputs": [
    {
     "data": {
      "text/html": [
       "<div>\n",
       "<style scoped>\n",
       "    .dataframe tbody tr th:only-of-type {\n",
       "        vertical-align: middle;\n",
       "    }\n",
       "\n",
       "    .dataframe tbody tr th {\n",
       "        vertical-align: top;\n",
       "    }\n",
       "\n",
       "    .dataframe thead th {\n",
       "        text-align: right;\n",
       "    }\n",
       "</style>\n",
       "<table border=\"1\" class=\"dataframe\">\n",
       "  <thead>\n",
       "    <tr style=\"text-align: right;\">\n",
       "      <th></th>\n",
       "      <th>Species</th>\n",
       "      <th>Age</th>\n",
       "      <th>Dataset</th>\n",
       "      <th>Status</th>\n",
       "      <th>Country</th>\n",
       "      <th>Rear Condition</th>\n",
       "      <th>StoTime</th>\n",
       "      <th>1800</th>\n",
       "      <th>1798</th>\n",
       "      <th>1796</th>\n",
       "      <th>...</th>\n",
       "      <th>620</th>\n",
       "      <th>618</th>\n",
       "      <th>616</th>\n",
       "      <th>614</th>\n",
       "      <th>612</th>\n",
       "      <th>610</th>\n",
       "      <th>608</th>\n",
       "      <th>606</th>\n",
       "      <th>604</th>\n",
       "      <th>602</th>\n",
       "    </tr>\n",
       "  </thead>\n",
       "  <tbody>\n",
       "    <tr>\n",
       "      <th>2</th>\n",
       "      <td>AC</td>\n",
       "      <td>1</td>\n",
       "      <td>Glasgow Lab</td>\n",
       "      <td>SF</td>\n",
       "      <td>S</td>\n",
       "      <td>TL</td>\n",
       "      <td>83</td>\n",
       "      <td>0.0094</td>\n",
       "      <td>0.0094</td>\n",
       "      <td>0.0094</td>\n",
       "      <td>...</td>\n",
       "      <td>0.1044</td>\n",
       "      <td>0.1045</td>\n",
       "      <td>0.1047</td>\n",
       "      <td>0.1051</td>\n",
       "      <td>0.1054</td>\n",
       "      <td>0.1057</td>\n",
       "      <td>0.1060</td>\n",
       "      <td>0.1064</td>\n",
       "      <td>0.1068</td>\n",
       "      <td>0.1074</td>\n",
       "    </tr>\n",
       "    <tr>\n",
       "      <th>3</th>\n",
       "      <td>AC</td>\n",
       "      <td>1</td>\n",
       "      <td>Glasgow Lab</td>\n",
       "      <td>SF</td>\n",
       "      <td>S</td>\n",
       "      <td>TL</td>\n",
       "      <td>83</td>\n",
       "      <td>0.0094</td>\n",
       "      <td>0.0094</td>\n",
       "      <td>0.0094</td>\n",
       "      <td>...</td>\n",
       "      <td>0.1044</td>\n",
       "      <td>0.1045</td>\n",
       "      <td>0.1047</td>\n",
       "      <td>0.1051</td>\n",
       "      <td>0.1054</td>\n",
       "      <td>0.1057</td>\n",
       "      <td>0.1060</td>\n",
       "      <td>0.1064</td>\n",
       "      <td>0.1068</td>\n",
       "      <td>0.1074</td>\n",
       "    </tr>\n",
       "    <tr>\n",
       "      <th>14</th>\n",
       "      <td>AC</td>\n",
       "      <td>1</td>\n",
       "      <td>Glasgow Lab</td>\n",
       "      <td>SF</td>\n",
       "      <td>S</td>\n",
       "      <td>TL</td>\n",
       "      <td>83</td>\n",
       "      <td>0.0109</td>\n",
       "      <td>0.0108</td>\n",
       "      <td>0.0106</td>\n",
       "      <td>...</td>\n",
       "      <td>0.1288</td>\n",
       "      <td>0.1291</td>\n",
       "      <td>0.1295</td>\n",
       "      <td>0.1301</td>\n",
       "      <td>0.1307</td>\n",
       "      <td>0.1313</td>\n",
       "      <td>0.1321</td>\n",
       "      <td>0.1330</td>\n",
       "      <td>0.1337</td>\n",
       "      <td>0.1345</td>\n",
       "    </tr>\n",
       "    <tr>\n",
       "      <th>15</th>\n",
       "      <td>AC</td>\n",
       "      <td>1</td>\n",
       "      <td>Glasgow Lab</td>\n",
       "      <td>SF</td>\n",
       "      <td>S</td>\n",
       "      <td>TL</td>\n",
       "      <td>83</td>\n",
       "      <td>0.0109</td>\n",
       "      <td>0.0108</td>\n",
       "      <td>0.0106</td>\n",
       "      <td>...</td>\n",
       "      <td>0.1288</td>\n",
       "      <td>0.1291</td>\n",
       "      <td>0.1295</td>\n",
       "      <td>0.1301</td>\n",
       "      <td>0.1307</td>\n",
       "      <td>0.1313</td>\n",
       "      <td>0.1321</td>\n",
       "      <td>0.1330</td>\n",
       "      <td>0.1337</td>\n",
       "      <td>0.1345</td>\n",
       "    </tr>\n",
       "    <tr>\n",
       "      <th>16</th>\n",
       "      <td>AC</td>\n",
       "      <td>1</td>\n",
       "      <td>Glasgow Lab</td>\n",
       "      <td>SF</td>\n",
       "      <td>S</td>\n",
       "      <td>TL</td>\n",
       "      <td>83</td>\n",
       "      <td>0.0098</td>\n",
       "      <td>0.0098</td>\n",
       "      <td>0.0098</td>\n",
       "      <td>...</td>\n",
       "      <td>0.0976</td>\n",
       "      <td>0.0978</td>\n",
       "      <td>0.0981</td>\n",
       "      <td>0.0984</td>\n",
       "      <td>0.0987</td>\n",
       "      <td>0.0989</td>\n",
       "      <td>0.0991</td>\n",
       "      <td>0.0993</td>\n",
       "      <td>0.0996</td>\n",
       "      <td>0.1001</td>\n",
       "    </tr>\n",
       "    <tr>\n",
       "      <th>...</th>\n",
       "      <td>...</td>\n",
       "      <td>...</td>\n",
       "      <td>...</td>\n",
       "      <td>...</td>\n",
       "      <td>...</td>\n",
       "      <td>...</td>\n",
       "      <td>...</td>\n",
       "      <td>...</td>\n",
       "      <td>...</td>\n",
       "      <td>...</td>\n",
       "      <td>...</td>\n",
       "      <td>...</td>\n",
       "      <td>...</td>\n",
       "      <td>...</td>\n",
       "      <td>...</td>\n",
       "      <td>...</td>\n",
       "      <td>...</td>\n",
       "      <td>...</td>\n",
       "      <td>...</td>\n",
       "      <td>...</td>\n",
       "      <td>...</td>\n",
       "    </tr>\n",
       "    <tr>\n",
       "      <th>1194</th>\n",
       "      <td>AG</td>\n",
       "      <td>5</td>\n",
       "      <td>Glasgow Lab</td>\n",
       "      <td>SF</td>\n",
       "      <td>S</td>\n",
       "      <td>TL</td>\n",
       "      <td>9</td>\n",
       "      <td>0.0110</td>\n",
       "      <td>0.0112</td>\n",
       "      <td>0.0112</td>\n",
       "      <td>...</td>\n",
       "      <td>0.1100</td>\n",
       "      <td>0.1102</td>\n",
       "      <td>0.1105</td>\n",
       "      <td>0.1108</td>\n",
       "      <td>0.1113</td>\n",
       "      <td>0.1118</td>\n",
       "      <td>0.1122</td>\n",
       "      <td>0.1125</td>\n",
       "      <td>0.1130</td>\n",
       "      <td>0.1136</td>\n",
       "    </tr>\n",
       "    <tr>\n",
       "      <th>1270</th>\n",
       "      <td>AG</td>\n",
       "      <td>7</td>\n",
       "      <td>Glasgow Lab</td>\n",
       "      <td>BF</td>\n",
       "      <td>S</td>\n",
       "      <td>TL</td>\n",
       "      <td>13</td>\n",
       "      <td>0.0118</td>\n",
       "      <td>0.0118</td>\n",
       "      <td>0.0118</td>\n",
       "      <td>...</td>\n",
       "      <td>0.1086</td>\n",
       "      <td>0.1089</td>\n",
       "      <td>0.1092</td>\n",
       "      <td>0.1095</td>\n",
       "      <td>0.1098</td>\n",
       "      <td>0.1100</td>\n",
       "      <td>0.1103</td>\n",
       "      <td>0.1106</td>\n",
       "      <td>0.1109</td>\n",
       "      <td>0.1114</td>\n",
       "    </tr>\n",
       "    <tr>\n",
       "      <th>1455</th>\n",
       "      <td>AG</td>\n",
       "      <td>9</td>\n",
       "      <td>Glasgow Lab</td>\n",
       "      <td>SF</td>\n",
       "      <td>S</td>\n",
       "      <td>TL</td>\n",
       "      <td>8</td>\n",
       "      <td>0.0072</td>\n",
       "      <td>0.0073</td>\n",
       "      <td>0.0073</td>\n",
       "      <td>...</td>\n",
       "      <td>0.1230</td>\n",
       "      <td>0.1235</td>\n",
       "      <td>0.1241</td>\n",
       "      <td>0.1247</td>\n",
       "      <td>0.1253</td>\n",
       "      <td>0.1260</td>\n",
       "      <td>0.1266</td>\n",
       "      <td>0.1272</td>\n",
       "      <td>0.1278</td>\n",
       "      <td>0.1285</td>\n",
       "    </tr>\n",
       "    <tr>\n",
       "      <th>1479</th>\n",
       "      <td>AG</td>\n",
       "      <td>9</td>\n",
       "      <td>Glasgow Lab</td>\n",
       "      <td>SF</td>\n",
       "      <td>S</td>\n",
       "      <td>TL</td>\n",
       "      <td>8</td>\n",
       "      <td>0.0105</td>\n",
       "      <td>0.0106</td>\n",
       "      <td>0.0106</td>\n",
       "      <td>...</td>\n",
       "      <td>0.1258</td>\n",
       "      <td>0.1264</td>\n",
       "      <td>0.1269</td>\n",
       "      <td>0.1273</td>\n",
       "      <td>0.1278</td>\n",
       "      <td>0.1283</td>\n",
       "      <td>0.1288</td>\n",
       "      <td>0.1293</td>\n",
       "      <td>0.1297</td>\n",
       "      <td>0.1301</td>\n",
       "    </tr>\n",
       "    <tr>\n",
       "      <th>1551</th>\n",
       "      <td>AG</td>\n",
       "      <td>10</td>\n",
       "      <td>Glasgow Lab</td>\n",
       "      <td>BF</td>\n",
       "      <td>S</td>\n",
       "      <td>TL</td>\n",
       "      <td>9</td>\n",
       "      <td>0.0103</td>\n",
       "      <td>0.0104</td>\n",
       "      <td>0.0105</td>\n",
       "      <td>...</td>\n",
       "      <td>0.1280</td>\n",
       "      <td>0.1282</td>\n",
       "      <td>0.1284</td>\n",
       "      <td>0.1286</td>\n",
       "      <td>0.1288</td>\n",
       "      <td>0.1291</td>\n",
       "      <td>0.1295</td>\n",
       "      <td>0.1300</td>\n",
       "      <td>0.1305</td>\n",
       "      <td>0.1312</td>\n",
       "    </tr>\n",
       "  </tbody>\n",
       "</table>\n",
       "<p>89 rows × 607 columns</p>\n",
       "</div>"
      ],
      "text/plain": [
       "     Species  Age      Dataset Status Country Rear Condition  StoTime    1800  \\\n",
       "2         AC    1  Glasgow Lab     SF       S             TL       83  0.0094   \n",
       "3         AC    1  Glasgow Lab     SF       S             TL       83  0.0094   \n",
       "14        AC    1  Glasgow Lab     SF       S             TL       83  0.0109   \n",
       "15        AC    1  Glasgow Lab     SF       S             TL       83  0.0109   \n",
       "16        AC    1  Glasgow Lab     SF       S             TL       83  0.0098   \n",
       "...      ...  ...          ...    ...     ...            ...      ...     ...   \n",
       "1194      AG    5  Glasgow Lab     SF       S             TL        9  0.0110   \n",
       "1270      AG    7  Glasgow Lab     BF       S             TL       13  0.0118   \n",
       "1455      AG    9  Glasgow Lab     SF       S             TL        8  0.0072   \n",
       "1479      AG    9  Glasgow Lab     SF       S             TL        8  0.0105   \n",
       "1551      AG   10  Glasgow Lab     BF       S             TL        9  0.0103   \n",
       "\n",
       "        1798    1796  ...     620     618     616     614     612     610  \\\n",
       "2     0.0094  0.0094  ...  0.1044  0.1045  0.1047  0.1051  0.1054  0.1057   \n",
       "3     0.0094  0.0094  ...  0.1044  0.1045  0.1047  0.1051  0.1054  0.1057   \n",
       "14    0.0108  0.0106  ...  0.1288  0.1291  0.1295  0.1301  0.1307  0.1313   \n",
       "15    0.0108  0.0106  ...  0.1288  0.1291  0.1295  0.1301  0.1307  0.1313   \n",
       "16    0.0098  0.0098  ...  0.0976  0.0978  0.0981  0.0984  0.0987  0.0989   \n",
       "...      ...     ...  ...     ...     ...     ...     ...     ...     ...   \n",
       "1194  0.0112  0.0112  ...  0.1100  0.1102  0.1105  0.1108  0.1113  0.1118   \n",
       "1270  0.0118  0.0118  ...  0.1086  0.1089  0.1092  0.1095  0.1098  0.1100   \n",
       "1455  0.0073  0.0073  ...  0.1230  0.1235  0.1241  0.1247  0.1253  0.1260   \n",
       "1479  0.0106  0.0106  ...  0.1258  0.1264  0.1269  0.1273  0.1278  0.1283   \n",
       "1551  0.0104  0.0105  ...  0.1280  0.1282  0.1284  0.1286  0.1288  0.1291   \n",
       "\n",
       "         608     606     604     602  \n",
       "2     0.1060  0.1064  0.1068  0.1074  \n",
       "3     0.1060  0.1064  0.1068  0.1074  \n",
       "14    0.1321  0.1330  0.1337  0.1345  \n",
       "15    0.1321  0.1330  0.1337  0.1345  \n",
       "16    0.0991  0.0993  0.0996  0.1001  \n",
       "...      ...     ...     ...     ...  \n",
       "1194  0.1122  0.1125  0.1130  0.1136  \n",
       "1270  0.1103  0.1106  0.1109  0.1114  \n",
       "1455  0.1266  0.1272  0.1278  0.1285  \n",
       "1479  0.1288  0.1293  0.1297  0.1301  \n",
       "1551  0.1295  0.1300  0.1305  0.1312  \n",
       "\n",
       "[89 rows x 607 columns]"
      ]
     },
     "execution_count": 10,
     "metadata": {},
     "output_type": "execute_result"
    }
   ],
   "source": [
    "## type your answer here\n",
    "\n",
    "df_mosquitoes[(df_mosquitoes[\"612\"] < 0.1336)]"
   ]
  },
  {
   "cell_type": "markdown",
   "metadata": {},
   "source": [
    "6. Replace the following values: \n",
    "    - AC: An. coluzzii\n",
    "    - AG: An. gambiae\n",
    "    - SF: Sugar fed\n",
    "    - BF: Blood fed\n",
    "    - GR: Gravid"
   ]
  },
  {
   "cell_type": "code",
   "execution_count": 20,
   "metadata": {},
   "outputs": [
    {
     "data": {
      "text/html": [
       "<div>\n",
       "<style scoped>\n",
       "    .dataframe tbody tr th:only-of-type {\n",
       "        vertical-align: middle;\n",
       "    }\n",
       "\n",
       "    .dataframe tbody tr th {\n",
       "        vertical-align: top;\n",
       "    }\n",
       "\n",
       "    .dataframe thead th {\n",
       "        text-align: right;\n",
       "    }\n",
       "</style>\n",
       "<table border=\"1\" class=\"dataframe\">\n",
       "  <thead>\n",
       "    <tr style=\"text-align: right;\">\n",
       "      <th></th>\n",
       "      <th>Species</th>\n",
       "      <th>Age</th>\n",
       "      <th>Dataset</th>\n",
       "      <th>Status</th>\n",
       "      <th>Country</th>\n",
       "      <th>Rear Condition</th>\n",
       "      <th>StoTime</th>\n",
       "      <th>1800</th>\n",
       "      <th>1798</th>\n",
       "      <th>1796</th>\n",
       "      <th>...</th>\n",
       "      <th>620</th>\n",
       "      <th>618</th>\n",
       "      <th>616</th>\n",
       "      <th>614</th>\n",
       "      <th>612</th>\n",
       "      <th>610</th>\n",
       "      <th>608</th>\n",
       "      <th>606</th>\n",
       "      <th>604</th>\n",
       "      <th>602</th>\n",
       "    </tr>\n",
       "  </thead>\n",
       "  <tbody>\n",
       "    <tr>\n",
       "      <th>0</th>\n",
       "      <td>An. coluzzii</td>\n",
       "      <td>1</td>\n",
       "      <td>Glasgow Lab</td>\n",
       "      <td>Sugar fed</td>\n",
       "      <td>S</td>\n",
       "      <td>TL</td>\n",
       "      <td>83</td>\n",
       "      <td>0.0105</td>\n",
       "      <td>0.0106</td>\n",
       "      <td>0.0107</td>\n",
       "      <td>...</td>\n",
       "      <td>0.1472</td>\n",
       "      <td>0.1478</td>\n",
       "      <td>0.1478</td>\n",
       "      <td>0.1475</td>\n",
       "      <td>0.1476</td>\n",
       "      <td>0.1481</td>\n",
       "      <td>0.1489</td>\n",
       "      <td>0.1497</td>\n",
       "      <td>0.1507</td>\n",
       "      <td>0.1519</td>\n",
       "    </tr>\n",
       "    <tr>\n",
       "      <th>1</th>\n",
       "      <td>An. coluzzii</td>\n",
       "      <td>1</td>\n",
       "      <td>Glasgow Lab</td>\n",
       "      <td>Sugar fed</td>\n",
       "      <td>S</td>\n",
       "      <td>TL</td>\n",
       "      <td>83</td>\n",
       "      <td>0.0105</td>\n",
       "      <td>0.0106</td>\n",
       "      <td>0.0107</td>\n",
       "      <td>...</td>\n",
       "      <td>0.1472</td>\n",
       "      <td>0.1478</td>\n",
       "      <td>0.1478</td>\n",
       "      <td>0.1475</td>\n",
       "      <td>0.1476</td>\n",
       "      <td>0.1481</td>\n",
       "      <td>0.1489</td>\n",
       "      <td>0.1497</td>\n",
       "      <td>0.1507</td>\n",
       "      <td>0.1519</td>\n",
       "    </tr>\n",
       "    <tr>\n",
       "      <th>2</th>\n",
       "      <td>An. coluzzii</td>\n",
       "      <td>1</td>\n",
       "      <td>Glasgow Lab</td>\n",
       "      <td>Sugar fed</td>\n",
       "      <td>S</td>\n",
       "      <td>TL</td>\n",
       "      <td>83</td>\n",
       "      <td>0.0094</td>\n",
       "      <td>0.0094</td>\n",
       "      <td>0.0094</td>\n",
       "      <td>...</td>\n",
       "      <td>0.1044</td>\n",
       "      <td>0.1045</td>\n",
       "      <td>0.1047</td>\n",
       "      <td>0.1051</td>\n",
       "      <td>0.1054</td>\n",
       "      <td>0.1057</td>\n",
       "      <td>0.1060</td>\n",
       "      <td>0.1064</td>\n",
       "      <td>0.1068</td>\n",
       "      <td>0.1074</td>\n",
       "    </tr>\n",
       "    <tr>\n",
       "      <th>3</th>\n",
       "      <td>An. coluzzii</td>\n",
       "      <td>1</td>\n",
       "      <td>Glasgow Lab</td>\n",
       "      <td>Sugar fed</td>\n",
       "      <td>S</td>\n",
       "      <td>TL</td>\n",
       "      <td>83</td>\n",
       "      <td>0.0094</td>\n",
       "      <td>0.0094</td>\n",
       "      <td>0.0094</td>\n",
       "      <td>...</td>\n",
       "      <td>0.1044</td>\n",
       "      <td>0.1045</td>\n",
       "      <td>0.1047</td>\n",
       "      <td>0.1051</td>\n",
       "      <td>0.1054</td>\n",
       "      <td>0.1057</td>\n",
       "      <td>0.1060</td>\n",
       "      <td>0.1064</td>\n",
       "      <td>0.1068</td>\n",
       "      <td>0.1074</td>\n",
       "    </tr>\n",
       "    <tr>\n",
       "      <th>4</th>\n",
       "      <td>An. coluzzii</td>\n",
       "      <td>1</td>\n",
       "      <td>Glasgow Lab</td>\n",
       "      <td>Sugar fed</td>\n",
       "      <td>S</td>\n",
       "      <td>TL</td>\n",
       "      <td>83</td>\n",
       "      <td>0.0116</td>\n",
       "      <td>0.0117</td>\n",
       "      <td>0.0118</td>\n",
       "      <td>...</td>\n",
       "      <td>0.1322</td>\n",
       "      <td>0.1325</td>\n",
       "      <td>0.1328</td>\n",
       "      <td>0.1332</td>\n",
       "      <td>0.1336</td>\n",
       "      <td>0.1341</td>\n",
       "      <td>0.1349</td>\n",
       "      <td>0.1357</td>\n",
       "      <td>0.1365</td>\n",
       "      <td>0.1376</td>\n",
       "    </tr>\n",
       "  </tbody>\n",
       "</table>\n",
       "<p>5 rows × 607 columns</p>\n",
       "</div>"
      ],
      "text/plain": [
       "        Species  Age      Dataset     Status Country Rear Condition  StoTime  \\\n",
       "0  An. coluzzii    1  Glasgow Lab  Sugar fed       S             TL       83   \n",
       "1  An. coluzzii    1  Glasgow Lab  Sugar fed       S             TL       83   \n",
       "2  An. coluzzii    1  Glasgow Lab  Sugar fed       S             TL       83   \n",
       "3  An. coluzzii    1  Glasgow Lab  Sugar fed       S             TL       83   \n",
       "4  An. coluzzii    1  Glasgow Lab  Sugar fed       S             TL       83   \n",
       "\n",
       "     1800    1798    1796  ...     620     618     616     614     612  \\\n",
       "0  0.0105  0.0106  0.0107  ...  0.1472  0.1478  0.1478  0.1475  0.1476   \n",
       "1  0.0105  0.0106  0.0107  ...  0.1472  0.1478  0.1478  0.1475  0.1476   \n",
       "2  0.0094  0.0094  0.0094  ...  0.1044  0.1045  0.1047  0.1051  0.1054   \n",
       "3  0.0094  0.0094  0.0094  ...  0.1044  0.1045  0.1047  0.1051  0.1054   \n",
       "4  0.0116  0.0117  0.0118  ...  0.1322  0.1325  0.1328  0.1332  0.1336   \n",
       "\n",
       "      610     608     606     604     602  \n",
       "0  0.1481  0.1489  0.1497  0.1507  0.1519  \n",
       "1  0.1481  0.1489  0.1497  0.1507  0.1519  \n",
       "2  0.1057  0.1060  0.1064  0.1068  0.1074  \n",
       "3  0.1057  0.1060  0.1064  0.1068  0.1074  \n",
       "4  0.1341  0.1349  0.1357  0.1365  0.1376  \n",
       "\n",
       "[5 rows x 607 columns]"
      ]
     },
     "execution_count": 20,
     "metadata": {},
     "output_type": "execute_result"
    }
   ],
   "source": [
    "## print your answer here\n",
    "\n",
    "replace_values_1={\"AC\":\"An. coluzzii\", \"AG\": \"An. gambiae\"} \n",
    "replace_values_2={\"SF\":\"Sugar fed\", \"BF\":\"Blood fed\", \"GR\":\"Gravid\"}\n",
    "df_mosquitoes.replace({\"Species\":  replace_values_1, \"Status\": replace_values_2}, inplace = True)\n",
    "df_mosquitoes.head()"
   ]
  },
  {
   "cell_type": "markdown",
   "metadata": {},
   "source": [
    "7. Create a new variable called ac_bf and assigned to it all the samples that are An. coluzzii and Blood fed and print the first 5 rows."
   ]
  },
  {
   "cell_type": "code",
   "execution_count": 12,
   "metadata": {},
   "outputs": [
    {
     "data": {
      "text/html": [
       "<div>\n",
       "<style scoped>\n",
       "    .dataframe tbody tr th:only-of-type {\n",
       "        vertical-align: middle;\n",
       "    }\n",
       "\n",
       "    .dataframe tbody tr th {\n",
       "        vertical-align: top;\n",
       "    }\n",
       "\n",
       "    .dataframe thead th {\n",
       "        text-align: right;\n",
       "    }\n",
       "</style>\n",
       "<table border=\"1\" class=\"dataframe\">\n",
       "  <thead>\n",
       "    <tr style=\"text-align: right;\">\n",
       "      <th></th>\n",
       "      <th>Species</th>\n",
       "      <th>Age</th>\n",
       "      <th>Dataset</th>\n",
       "      <th>Status</th>\n",
       "      <th>Country</th>\n",
       "      <th>Rear Condition</th>\n",
       "      <th>StoTime</th>\n",
       "      <th>1800</th>\n",
       "      <th>1798</th>\n",
       "      <th>1796</th>\n",
       "      <th>...</th>\n",
       "      <th>620</th>\n",
       "      <th>618</th>\n",
       "      <th>616</th>\n",
       "      <th>614</th>\n",
       "      <th>612</th>\n",
       "      <th>610</th>\n",
       "      <th>608</th>\n",
       "      <th>606</th>\n",
       "      <th>604</th>\n",
       "      <th>602</th>\n",
       "    </tr>\n",
       "  </thead>\n",
       "  <tbody>\n",
       "    <tr>\n",
       "      <th>80</th>\n",
       "      <td>An. coluzzii</td>\n",
       "      <td>3</td>\n",
       "      <td>Glasgow Lab</td>\n",
       "      <td>Blood fed</td>\n",
       "      <td>S</td>\n",
       "      <td>TL</td>\n",
       "      <td>96</td>\n",
       "      <td>0.0100</td>\n",
       "      <td>0.0101</td>\n",
       "      <td>0.0104</td>\n",
       "      <td>...</td>\n",
       "      <td>0.1388</td>\n",
       "      <td>0.1394</td>\n",
       "      <td>0.1397</td>\n",
       "      <td>0.1400</td>\n",
       "      <td>0.1405</td>\n",
       "      <td>0.1411</td>\n",
       "      <td>0.1419</td>\n",
       "      <td>0.1426</td>\n",
       "      <td>0.1433</td>\n",
       "      <td>0.1443</td>\n",
       "    </tr>\n",
       "    <tr>\n",
       "      <th>81</th>\n",
       "      <td>An. coluzzii</td>\n",
       "      <td>3</td>\n",
       "      <td>Glasgow Lab</td>\n",
       "      <td>Blood fed</td>\n",
       "      <td>S</td>\n",
       "      <td>TL</td>\n",
       "      <td>96</td>\n",
       "      <td>0.0126</td>\n",
       "      <td>0.0128</td>\n",
       "      <td>0.0132</td>\n",
       "      <td>...</td>\n",
       "      <td>0.1611</td>\n",
       "      <td>0.1620</td>\n",
       "      <td>0.1627</td>\n",
       "      <td>0.1634</td>\n",
       "      <td>0.1640</td>\n",
       "      <td>0.1648</td>\n",
       "      <td>0.1655</td>\n",
       "      <td>0.1662</td>\n",
       "      <td>0.1669</td>\n",
       "      <td>0.1678</td>\n",
       "    </tr>\n",
       "    <tr>\n",
       "      <th>82</th>\n",
       "      <td>An. coluzzii</td>\n",
       "      <td>3</td>\n",
       "      <td>Glasgow Lab</td>\n",
       "      <td>Blood fed</td>\n",
       "      <td>S</td>\n",
       "      <td>TL</td>\n",
       "      <td>96</td>\n",
       "      <td>0.0111</td>\n",
       "      <td>0.0112</td>\n",
       "      <td>0.0114</td>\n",
       "      <td>...</td>\n",
       "      <td>0.1442</td>\n",
       "      <td>0.1449</td>\n",
       "      <td>0.1454</td>\n",
       "      <td>0.1459</td>\n",
       "      <td>0.1463</td>\n",
       "      <td>0.1469</td>\n",
       "      <td>0.1475</td>\n",
       "      <td>0.1481</td>\n",
       "      <td>0.1488</td>\n",
       "      <td>0.1497</td>\n",
       "    </tr>\n",
       "    <tr>\n",
       "      <th>83</th>\n",
       "      <td>An. coluzzii</td>\n",
       "      <td>3</td>\n",
       "      <td>Glasgow Lab</td>\n",
       "      <td>Blood fed</td>\n",
       "      <td>S</td>\n",
       "      <td>TL</td>\n",
       "      <td>96</td>\n",
       "      <td>0.0122</td>\n",
       "      <td>0.0123</td>\n",
       "      <td>0.0126</td>\n",
       "      <td>...</td>\n",
       "      <td>0.1017</td>\n",
       "      <td>0.1022</td>\n",
       "      <td>0.1026</td>\n",
       "      <td>0.1029</td>\n",
       "      <td>0.1031</td>\n",
       "      <td>0.1034</td>\n",
       "      <td>0.1037</td>\n",
       "      <td>0.1041</td>\n",
       "      <td>0.1046</td>\n",
       "      <td>0.1052</td>\n",
       "    </tr>\n",
       "    <tr>\n",
       "      <th>84</th>\n",
       "      <td>An. coluzzii</td>\n",
       "      <td>3</td>\n",
       "      <td>Glasgow Lab</td>\n",
       "      <td>Blood fed</td>\n",
       "      <td>S</td>\n",
       "      <td>TL</td>\n",
       "      <td>96</td>\n",
       "      <td>0.0149</td>\n",
       "      <td>0.0151</td>\n",
       "      <td>0.0156</td>\n",
       "      <td>...</td>\n",
       "      <td>0.2007</td>\n",
       "      <td>0.2016</td>\n",
       "      <td>0.2023</td>\n",
       "      <td>0.2029</td>\n",
       "      <td>0.2037</td>\n",
       "      <td>0.2045</td>\n",
       "      <td>0.2056</td>\n",
       "      <td>0.2066</td>\n",
       "      <td>0.2076</td>\n",
       "      <td>0.2089</td>\n",
       "    </tr>\n",
       "  </tbody>\n",
       "</table>\n",
       "<p>5 rows × 607 columns</p>\n",
       "</div>"
      ],
      "text/plain": [
       "         Species  Age      Dataset     Status Country Rear Condition  StoTime  \\\n",
       "80  An. coluzzii    3  Glasgow Lab  Blood fed       S             TL       96   \n",
       "81  An. coluzzii    3  Glasgow Lab  Blood fed       S             TL       96   \n",
       "82  An. coluzzii    3  Glasgow Lab  Blood fed       S             TL       96   \n",
       "83  An. coluzzii    3  Glasgow Lab  Blood fed       S             TL       96   \n",
       "84  An. coluzzii    3  Glasgow Lab  Blood fed       S             TL       96   \n",
       "\n",
       "      1800    1798    1796  ...     620     618     616     614     612  \\\n",
       "80  0.0100  0.0101  0.0104  ...  0.1388  0.1394  0.1397  0.1400  0.1405   \n",
       "81  0.0126  0.0128  0.0132  ...  0.1611  0.1620  0.1627  0.1634  0.1640   \n",
       "82  0.0111  0.0112  0.0114  ...  0.1442  0.1449  0.1454  0.1459  0.1463   \n",
       "83  0.0122  0.0123  0.0126  ...  0.1017  0.1022  0.1026  0.1029  0.1031   \n",
       "84  0.0149  0.0151  0.0156  ...  0.2007  0.2016  0.2023  0.2029  0.2037   \n",
       "\n",
       "       610     608     606     604     602  \n",
       "80  0.1411  0.1419  0.1426  0.1433  0.1443  \n",
       "81  0.1648  0.1655  0.1662  0.1669  0.1678  \n",
       "82  0.1469  0.1475  0.1481  0.1488  0.1497  \n",
       "83  0.1034  0.1037  0.1041  0.1046  0.1052  \n",
       "84  0.2045  0.2056  0.2066  0.2076  0.2089  \n",
       "\n",
       "[5 rows x 607 columns]"
      ]
     },
     "execution_count": 12,
     "metadata": {},
     "output_type": "execute_result"
    }
   ],
   "source": [
    "## print your answer here\n",
    "ac_bf =  df_mosquitoes[(df_mosquitoes['Species'] == 'An. coluzzii') & (df_mosquitoes['Status'] == 'Blood fed')]\n",
    "ac_bf.head()"
   ]
  },
  {
   "cell_type": "markdown",
   "metadata": {},
   "source": [
    "8. Create a new variable called: ag_old and assigned to it all the samples that ar An. gambiae and older than 5 days. Print the first 7 rows"
   ]
  },
  {
   "cell_type": "code",
   "execution_count": 13,
   "metadata": {},
   "outputs": [],
   "source": [
    "## print your answer here\n",
    "\n",
    "ag_old = df_mosquitoes[(df_mosquitoes['Species'] == 'An. gambiae') & (df_mosquitoes['Age'] > 5)]"
   ]
  },
  {
   "cell_type": "code",
   "execution_count": 14,
   "metadata": {},
   "outputs": [
    {
     "name": "stdout",
     "output_type": "stream",
     "text": [
      "          Species  Age      Dataset     Status Country Rear Condition  \\\n",
      "1244  An. gambiae    7  Glasgow Lab  Blood fed       S             TL   \n",
      "1245  An. gambiae    7  Glasgow Lab  Blood fed       S             TL   \n",
      "1246  An. gambiae    7  Glasgow Lab  Blood fed       S             TL   \n",
      "1247  An. gambiae    7  Glasgow Lab  Blood fed       S             TL   \n",
      "1248  An. gambiae    7  Glasgow Lab  Blood fed       S             TL   \n",
      "1249  An. gambiae    7  Glasgow Lab  Blood fed       S             TL   \n",
      "1250  An. gambiae    7  Glasgow Lab  Blood fed       S             TL   \n",
      "\n",
      "      StoTime    1800    1798    1796  ...     620     618     616     614  \\\n",
      "1244       10  0.0110  0.0111  0.0112  ...  0.1442  0.1446  0.1450  0.1455   \n",
      "1245       10  0.0105  0.0106  0.0106  ...  0.1636  0.1642  0.1647  0.1652   \n",
      "1246       10  0.0117  0.0118  0.0118  ...  0.1919  0.1926  0.1934  0.1942   \n",
      "1247       10  0.0147  0.0149  0.0150  ...  0.2610  0.2620  0.2631  0.2641   \n",
      "1248       10  0.0140  0.0140  0.0140  ...  0.1747  0.1756  0.1766  0.1775   \n",
      "1249       10  0.0146  0.0146  0.0146  ...  0.2000  0.2006  0.2011  0.2015   \n",
      "1250       13  0.0109  0.0111  0.0112  ...  0.1768  0.1774  0.1782  0.1790   \n",
      "\n",
      "         612     610     608     606     604     602  \n",
      "1244  0.1460  0.1466  0.1472  0.1478  0.1484  0.1491  \n",
      "1245  0.1659  0.1665  0.1672  0.1679  0.1686  0.1694  \n",
      "1246  0.1951  0.1959  0.1969  0.1978  0.1988  0.2000  \n",
      "1247  0.2651  0.2662  0.2676  0.2689  0.2702  0.2716  \n",
      "1248  0.1783  0.1791  0.1801  0.1811  0.1822  0.1835  \n",
      "1249  0.2021  0.2027  0.2035  0.2043  0.2051  0.2060  \n",
      "1250  0.1798  0.1805  0.1813  0.1820  0.1828  0.1838  \n",
      "\n",
      "[7 rows x 607 columns]\n"
     ]
    }
   ],
   "source": [
    "print(ag_old.head(7))"
   ]
  },
  {
   "cell_type": "markdown",
   "metadata": {},
   "source": [
    "9. Create a variable called X that have only wavelenghts from: 1800 - 602"
   ]
  },
  {
   "cell_type": "code",
   "execution_count": 15,
   "metadata": {},
   "outputs": [
    {
     "name": "stdout",
     "output_type": "stream",
     "text": [
      "        1800    1798    1796    1794    1792    1790    1788    1786    1784  \\\n",
      "0     0.0105  0.0106  0.0107  0.0109  0.0109  0.0108  0.0107  0.0108  0.0110   \n",
      "1     0.0105  0.0106  0.0107  0.0109  0.0109  0.0108  0.0107  0.0108  0.0110   \n",
      "2     0.0094  0.0094  0.0094  0.0093  0.0095  0.0099  0.0101  0.0102  0.0102   \n",
      "3     0.0094  0.0094  0.0094  0.0093  0.0095  0.0099  0.0101  0.0102  0.0102   \n",
      "4     0.0116  0.0117  0.0118  0.0119  0.0119  0.0118  0.0117  0.0117  0.0118   \n",
      "...      ...     ...     ...     ...     ...     ...     ...     ...     ...   \n",
      "1659  0.0148  0.0150  0.0152  0.0155  0.0158  0.0160  0.0163  0.0166  0.0170   \n",
      "1660  0.0148  0.0150  0.0152  0.0154  0.0157  0.0159  0.0161  0.0164  0.0167   \n",
      "1661  0.0159  0.0161  0.0163  0.0164  0.0167  0.0169  0.0172  0.0175  0.0178   \n",
      "1662  0.0159  0.0161  0.0163  0.0165  0.0168  0.0170  0.0173  0.0176  0.0179   \n",
      "1663  0.0161  0.0163  0.0164  0.0166  0.0168  0.0171  0.0174  0.0177  0.0181   \n",
      "\n",
      "        1782  ...     620     618     616     614     612     610     608  \\\n",
      "0     0.0111  ...  0.1472  0.1478  0.1478  0.1475  0.1476  0.1481  0.1489   \n",
      "1     0.0111  ...  0.1472  0.1478  0.1478  0.1475  0.1476  0.1481  0.1489   \n",
      "2     0.0103  ...  0.1044  0.1045  0.1047  0.1051  0.1054  0.1057  0.1060   \n",
      "3     0.0103  ...  0.1044  0.1045  0.1047  0.1051  0.1054  0.1057  0.1060   \n",
      "4     0.0118  ...  0.1322  0.1325  0.1328  0.1332  0.1336  0.1341  0.1349   \n",
      "...      ...  ...     ...     ...     ...     ...     ...     ...     ...   \n",
      "1659  0.0173  ...  0.2531  0.2540  0.2550  0.2558  0.2567  0.2576  0.2587   \n",
      "1660  0.0171  ...  0.2776  0.2784  0.2791  0.2797  0.2804  0.2813  0.2825   \n",
      "1661  0.0181  ...  0.2934  0.2944  0.2954  0.2962  0.2971  0.2981  0.2995   \n",
      "1662  0.0182  ...  0.2868  0.2878  0.2887  0.2895  0.2902  0.2911  0.2922   \n",
      "1663  0.0184  ...  0.2931  0.2939  0.2947  0.2954  0.2961  0.2969  0.2980   \n",
      "\n",
      "         606     604     602  \n",
      "0     0.1497  0.1507  0.1519  \n",
      "1     0.1497  0.1507  0.1519  \n",
      "2     0.1064  0.1068  0.1074  \n",
      "3     0.1064  0.1068  0.1074  \n",
      "4     0.1357  0.1365  0.1376  \n",
      "...      ...     ...     ...  \n",
      "1659  0.2597  0.2609  0.2623  \n",
      "1660  0.2836  0.2847  0.2858  \n",
      "1661  0.3009  0.3024  0.3044  \n",
      "1662  0.2934  0.2948  0.2964  \n",
      "1663  0.2992  0.3006  0.3022  \n",
      "\n",
      "[1664 rows x 600 columns]\n"
     ]
    }
   ],
   "source": [
    "## print your answer here\n",
    "\n",
    "X = df_mosquitoes.loc[:,'1800':'602']\n",
    "print(X)"
   ]
  },
  {
   "cell_type": "markdown",
   "metadata": {},
   "source": [
    "10. Select the column Age and assign it to a variable called y \n",
    "\n"
   ]
  },
  {
   "cell_type": "code",
   "execution_count": 19,
   "metadata": {},
   "outputs": [
    {
     "name": "stdout",
     "output_type": "stream",
     "text": [
      "0        1\n",
      "1        1\n",
      "2        1\n",
      "3        1\n",
      "4        1\n",
      "        ..\n",
      "1659    10\n",
      "1660    10\n",
      "1661    10\n",
      "1662    10\n",
      "1663    10\n",
      "Name: Age, Length: 1664, dtype: int64\n"
     ]
    }
   ],
   "source": [
    "## print your answer here\n",
    "y = df_mosquitoes['Age']\n",
    "print(y)"
   ]
  },
  {
   "cell_type": "markdown",
   "metadata": {},
   "source": [
    "# Assesment part spectroscopy"
   ]
  },
  {
   "cell_type": "markdown",
   "metadata": {},
   "source": [
    "## Frequency of molecular vibrations\n",
    "\n",
    "During our lecture, we discussed that the frequency of vibration of a diatomic molecule is given by the following equation:\n",
    "\n",
    "$$ f = \\frac{1}{2 \\pi} \\sqrt{\\frac{k}{\\mu}}$$\n",
    "\n",
    "where $k$ is the spring (or strength) constant and $\\mu$ is the reduced mass of the two atoms calculated with the formula:\n",
    "\n",
    "$$ \\mu = \\frac{m_1 m_2}{m_1 + m_2}$$\n",
    "\n",
    "And as an example, I calculated the wavenumber in cm<sup>-1</sup> of the vibration of the C-H bond. I knew that the mass of carbon is 12 g/mol, strength constant of the C-H bond is 500 N/m and the Avogadro number is $N_A = 6.022 \\cdot 10^{23}$ atoms/mol.\n",
    "\n",
    "So I started calculating the mass of the hidrogen and carbon atoms\n",
    "\n",
    "$$ m_H = \\frac{1 \\text{ g/mol}}{6.022 \\cdot 10^{23} \\text{ atoms/mol}} = 1.66 \\cdot 10^{-24} \\text{ g/atom} = 1.66 \\cdot 10^{-27} \\text{ kg/atom}$$\n",
    "\n",
    "\n",
    "$$ m_C = \\frac{12 \\text{ g/mol}}{6.022 \\cdot 10^{23} \\text{ atoms/mol}} = 1.99 \\cdot 10^{-23} \\text{ g/atom} = 1.99 \\cdot 10^{-26} \\text{ kg/atom}$$\n",
    "\n",
    "Then I calculated the reduced mass of the molecule\n",
    "\n",
    "$$ \\mu = \\frac{1.66 \\cdot 10^{-27} \\text{ kg} \\times 1.99 \\cdot 10^{-26} \\text{ kg}}{1.66 \\cdot 10^{-27} \\text{ kg}+  1.99 \\cdot 10^{-26} \\text{ kg}} = 1.531 \\cdot 10^{-27} \\text{ kg}$$\n",
    "\n",
    "And with it and the spring constant, I could get the frequency of vibration of the molecule\n",
    "\n",
    "$$ f_{CH} = \\frac{1}{2 \\pi} \\sqrt{\\frac{500 \\text{ N/m}}{ 1.531 \\cdot 10^{-27} \\text{ kg}}} = 9.09 \\cdot 10^{13} \\text{ Hz}$$\n",
    "\n",
    "To convert it into wavenumbers, I used the formula that we deducted from the properties of a wave:\n",
    "\n",
    "$$\\tilde{\\nu} = \\frac{1}{\\lambda} = \\frac{f}{c}$$\n",
    "\n",
    "So\n",
    "\n",
    "$$\\tilde{\\nu}_{CH} = \\frac{9.09 \\cdot 10^{13} \\text{ s}^{-1}}{2.99 \\cdot 10^8 \\text{ m/s}} = 303 209 \\text{ m}^{-1}$$\n",
    "\n",
    "and in wavenumbers (cm<sup>-1</sup>):\n",
    "$$303 209 \\text{ m}^{-1} \\times \\frac{1 \\text{ m}}{100 \\text{ cm}} = 3032.09 \\text{ cm}^{-1}$$\n"
   ]
  },
  {
   "cell_type": "markdown",
   "metadata": {},
   "source": [
    "### Exercise\n",
    "\n",
    "1. Using Python, write a function that can calculate the wavenumber of the vibration of a molecule for a given spring constant and the mass of the two atoms in the molecule. Use this function to calculate the vibration wavenumber of the following molecules C-H, C-C, C=C, C≡C and N≡N. \n",
    "\n",
    "*Please note how the wavenumbers of these molecules correspond to the areas designated in the literature for single, double, triple and hydrogen bonds.*"
   ]
  },
  {
   "cell_type": "code",
   "execution_count": 17,
   "metadata": {},
   "outputs": [
    {
     "name": "stdout",
     "output_type": "stream",
     "text": [
      "2.0\n",
      "3.141592653589793\n",
      "1.99e-26\n"
     ]
    }
   ],
   "source": [
    "## hints\n",
    "\n",
    "## you can use numpy to calculate the square root of any number by calling the function sqrt\n",
    "print(np.sqrt(4))\n",
    "\n",
    "## the value of pi can be also called using numpy\n",
    "\n",
    "print(np.pi)\n",
    "\n",
    "#Large or small numbers can be notated like this:\n",
    "print(1.99e-26)"
   ]
  },
  {
   "cell_type": "markdown",
   "metadata": {},
   "source": [
    "Large or small numbers can be notated like this:\n",
    "\n",
    "The number $1.99 \\cdot 10^{-26}$ can be coded like this: \n",
    "\n",
    "```{python}\n",
    "a = 1.99e-26\n",
    "```"
   ]
  },
  {
   "cell_type": "code",
   "execution_count": 41,
   "metadata": {},
   "outputs": [
    {
     "name": "stdin",
     "output_type": "stream",
     "text": [
      "Enter spring constant:  500\n",
      "Enter mass M1:  1\n",
      "Enter mass M2:  12\n"
     ]
    },
    {
     "name": "stdout",
     "output_type": "stream",
     "text": [
      "Vibration wavenumber: 3040.08 cm^-1\n"
     ]
    },
    {
     "data": {
      "text/plain": [
       "3040.082533616937"
      ]
     },
     "execution_count": 41,
     "metadata": {},
     "output_type": "execute_result"
    }
   ],
   "source": [
    "import numpy as np\n",
    "\n",
    "def vibration_wavenumber(spring_constant, mass_M1, mass_M2):\n",
    "    a = 6.022e23 # Avogadro's number\n",
    "    \n",
    "    mass_M1 = ((mass_M1 / a) / 1000) # in kg/atom\n",
    "    mass_M2 = ((mass_M2 / a) / 1000) # in kg/atom\n",
    "    \n",
    "    reduced_mass = (mass_M1 * mass_M2) / (mass_M1 + mass_M2)\n",
    "    waa = np.sqrt(spring_constant / reduced_mass)\n",
    "    freq = (1 / (2 * np.pi)) * waa\n",
    "    wavenumber = ((freq / 2.99e8) / 100)\n",
    "    \n",
    "    print(\"Vibration wavenumber: {:.2f} cm^-1\".format(wavenumber))\n",
    "    return wavenumber\n",
    "\n",
    "# C-H:\n",
    "spring_constant = float(input(\"Enter spring constant: \"))  # in N/m\n",
    "mass_M1 = float(input(\"Enter mass M1: \"))                # Mass of first atom in atomic mass units (u)\n",
    "mass_M2 = float(input(\"Enter mass M2: \"))                # Mass of second atom in atomic mass units (u)\n",
    "\n",
    "vibration_wavenumber(spring_constant, mass_M1, mass_M2)"
   ]
  },
  {
   "cell_type": "code",
   "execution_count": 42,
   "metadata": {},
   "outputs": [
    {
     "name": "stdin",
     "output_type": "stream",
     "text": [
      "Enter spring constant:  540\n",
      "Enter mass M1:  12\n",
      "Enter mass M2:  12\n"
     ]
    },
    {
     "name": "stdout",
     "output_type": "stream",
     "text": [
      "Vibration wavenumber: 1239.20 cm^-1\n"
     ]
    },
    {
     "data": {
      "text/plain": [
       "1239.1976284986865"
      ]
     },
     "execution_count": 42,
     "metadata": {},
     "output_type": "execute_result"
    }
   ],
   "source": [
    "#C-C\n",
    "spring_constant = float(input(\"Enter spring constant: \"))  # in N/m\n",
    "mass_M1 = float(input(\"Enter mass M1: \"))                # Mass of first atom in atomic mass units (u)\n",
    "mass_M2 = float(input(\"Enter mass M2: \"))                # Mass of second atom in atomic mass units (u)\n",
    "\n",
    "vibration_wavenumber(spring_constant, mass_M1, mass_M2)"
   ]
  },
  {
   "cell_type": "code",
   "execution_count": 43,
   "metadata": {},
   "outputs": [
    {
     "name": "stdin",
     "output_type": "stream",
     "text": [
      "Enter spring constant:  1000\n",
      "Enter mass M1:  12\n",
      "Enter mass M2:  12\n"
     ]
    },
    {
     "name": "stdout",
     "output_type": "stream",
     "text": [
      "Vibration wavenumber: 1686.33 cm^-1\n"
     ]
    },
    {
     "data": {
      "text/plain": [
       "1686.3343779382067"
      ]
     },
     "execution_count": 43,
     "metadata": {},
     "output_type": "execute_result"
    }
   ],
   "source": [
    "#C=C\n",
    "spring_constant = float(input(\"Enter spring constant: \"))  # in N/m\n",
    "mass_M1 = float(input(\"Enter mass M1: \"))                # Mass of first atom in atomic mass units (u)\n",
    "mass_M2 = float(input(\"Enter mass M2: \"))                # Mass of second atom in atomic mass units (u)\n",
    "\n",
    "vibration_wavenumber(spring_constant, mass_M1, mass_M2)"
   ]
  },
  {
   "cell_type": "code",
   "execution_count": 44,
   "metadata": {},
   "outputs": [
    {
     "name": "stdin",
     "output_type": "stream",
     "text": [
      "Enter spring constant:  1500\n",
      "Enter mass M1:  12\n",
      "Enter mass M2:  12\n"
     ]
    },
    {
     "name": "stdout",
     "output_type": "stream",
     "text": [
      "Vibration wavenumber: 2065.33 cm^-1\n"
     ]
    },
    {
     "data": {
      "text/plain": [
       "2065.329380831144"
      ]
     },
     "execution_count": 44,
     "metadata": {},
     "output_type": "execute_result"
    }
   ],
   "source": [
    "#C≡C\n",
    "spring_constant = float(input(\"Enter spring constant: \"))  # in N/m\n",
    "mass_M1 = float(input(\"Enter mass M1: \"))                # Mass of first atom in atomic mass units (u)\n",
    "mass_M2 = float(input(\"Enter mass M2: \"))                # Mass of second atom in atomic mass units (u)\n",
    "\n",
    "vibration_wavenumber(spring_constant, mass_M1, mass_M2)"
   ]
  },
  {
   "cell_type": "code",
   "execution_count": 45,
   "metadata": {},
   "outputs": [
    {
     "name": "stdin",
     "output_type": "stream",
     "text": [
      "Enter spring constant:  2287\n",
      "Enter mass M1:  14\n",
      "Enter mass M2:  14\n"
     ]
    },
    {
     "name": "stdout",
     "output_type": "stream",
     "text": [
      "Vibration wavenumber: 2361.04 cm^-1\n"
     ]
    },
    {
     "data": {
      "text/plain": [
       "2361.040197779518"
      ]
     },
     "execution_count": 45,
     "metadata": {},
     "output_type": "execute_result"
    }
   ],
   "source": [
    "#N≡N\n",
    "spring_constant = float(input(\"Enter spring constant: \"))  # in N/m\n",
    "mass_M1 = float(input(\"Enter mass M1: \"))                # Mass of first atom in atomic mass units (u)\n",
    "mass_M2 = float(input(\"Enter mass M2: \"))                # Mass of second atom in atomic mass units (u)\n",
    "\n",
    "vibration_wavenumber(spring_constant, mass_M1, mass_M2)"
   ]
  },
  {
   "cell_type": "code",
   "execution_count": null,
   "metadata": {},
   "outputs": [],
   "source": []
  }
 ],
 "metadata": {
  "kernelspec": {
   "display_name": "Python 3 (ipykernel)",
   "language": "python",
   "name": "python3"
  },
  "language_info": {
   "codemirror_mode": {
    "name": "ipython",
    "version": 3
   },
   "file_extension": ".py",
   "mimetype": "text/x-python",
   "name": "python",
   "nbconvert_exporter": "python",
   "pygments_lexer": "ipython3",
   "version": "3.11.7"
  }
 },
 "nbformat": 4,
 "nbformat_minor": 4
}
